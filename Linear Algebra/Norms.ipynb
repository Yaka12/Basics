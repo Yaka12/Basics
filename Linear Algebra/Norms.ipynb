{
 "cells": [
  {
   "cell_type": "markdown",
   "metadata": {},
   "source": [
    "$L^p$ norm"
   ]
  },
  {
   "cell_type": "markdown",
   "metadata": {},
   "source": [
    "$$||x||_p = \\left( \\sum\\limits_{i} |x_i|^p \\right)^{\\frac{1}{p}}$$\n",
    "for $p ∈ R$, $p ≥ 1$"
   ]
  },
  {
   "cell_type": "markdown",
   "metadata": {},
   "source": [
    "The $L^1$ norm is called MAE (Mean-Absolute Error), the $L^2$ norm is called the Euclidian norm or MSE (Mean-Squarred Error).\n",
    "Another commonly used norm is $L^\\inf$, the maxnorm. This norm simplifies to the absolute value of the element with the largest magnitude in the vector : $||x||_{\\inf} = max|x_i|$"
   ]
  }
 ],
 "metadata": {
  "kernelspec": {
   "display_name": "Python 3",
   "language": "python",
   "name": "python3"
  },
  "language_info": {
   "codemirror_mode": {
    "name": "ipython",
    "version": 3
   },
   "file_extension": ".py",
   "mimetype": "text/x-python",
   "name": "python",
   "nbconvert_exporter": "python",
   "pygments_lexer": "ipython3",
   "version": "3.6.3"
  }
 },
 "nbformat": 4,
 "nbformat_minor": 2
}
