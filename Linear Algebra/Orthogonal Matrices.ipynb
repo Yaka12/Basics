{
 "cells": [
  {
   "cell_type": "markdown",
   "metadata": {},
   "source": [
    "## Import the libraries"
   ]
  },
  {
   "cell_type": "markdown",
   "metadata": {},
   "source": [
    "An orthogonal matrix is a square matrix whose rows are mutually orthonormal and whose columns are mutually orthonormal:\n",
    "  \n",
    "\n",
    "$A^TA=AA^T =I$\n",
    "\n",
    "This implies that\n",
    "$A^{−1} = A^T$\n",
    "so orthogonal matrices are of interest because their inverse is very cheap to compute. "
   ]
  },
  {
   "cell_type": "code",
   "execution_count": null,
   "metadata": {
    "collapsed": true
   },
   "outputs": [],
   "source": []
  }
 ],
 "metadata": {
  "kernelspec": {
   "display_name": "Python 3",
   "language": "python",
   "name": "python3"
  },
  "language_info": {
   "codemirror_mode": {
    "name": "ipython",
    "version": 3
   },
   "file_extension": ".py",
   "mimetype": "text/x-python",
   "name": "python",
   "nbconvert_exporter": "python",
   "pygments_lexer": "ipython3",
   "version": "3.6.3"
  }
 },
 "nbformat": 4,
 "nbformat_minor": 2
}
