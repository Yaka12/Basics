{
 "cells": [
  {
   "cell_type": "markdown",
   "metadata": {},
   "source": [
    "# Polynomial Regression"
   ]
  },
  {
   "cell_type": "markdown",
   "metadata": {},
   "source": [
    "Simple linear regression is a statistical method that allows us to summarize and study relationships between two continuous (quantitative) variables:\n",
    "\n",
    "* One variable, denoted *x*, is regarded as the independent variable.\n",
    "* The other variable, denoted *y*, is regarded as the dependent variable."
   ]
  },
  {
   "cell_type": "markdown",
   "metadata": {},
   "source": [
    "Linear regression is used to predict an outcome given some input value(s). While machine learning classifiers use features to predict a **discrete** label for a given instance or example, machine learning regressors have the ability use features to predict a **continuous** outcome for a given instance or example. \n",
    "\n",
    "Nonetheless, regression is still a supervised learning technique and you'll still need to train your model on a set of examples with known outcomes.\n",
    "\n",
    "The basic premise behind linear regression is to provide a model which can observe linear trends in the data; you've probably encountered linear regression at some point in the past as finding the \"line of best fit\"."
   ]
  },
  {
   "cell_type": "markdown",
   "metadata": {},
   "source": [
    "## The model"
   ]
  },
  {
   "cell_type": "markdown",
   "metadata": {},
   "source": [
    "Our machine learning model is represented by the equation of a line.\n",
    "$h_\\theta(x)=\\theta_0+\\theta_1.x + \\theta_2.x^2 + ... + \\theta_n . x^n$ \n",
    "\n",
    "In this case, we define our model as $h_\\theta(x)$ where *h* represents our predicted outcome as a function of our features, *x*. Typically, the model of a line is represented by $y=mx+b$. We use *h* instead of *y* to denote that this model is a hypothesis of the true trend. In a sense, we're attempting to provide our \"best guess\" for finding a relationship in the data provided. $\\theta_0$ and $\\theta_1$ are coefficients of our linear equation (analogous to *b* and *m* in the standard line equation) and will be considered parameters of the model."
   ]
  },
  {
   "cell_type": "markdown",
   "metadata": {},
   "source": [
    "\\begin{gather}h_\\theta(x)=\\begin{bmatrix}\\theta_0 & \\theta_1 & ... & \\theta_n\\end{bmatrix}\\begin{bmatrix}1 \\\\ x \\\\ .. \\\\ x^n\\end{bmatrix}=\\theta_0+\\theta_1 x + \\theta_2 x^2 + ... + \\theta_n x^n \\end{gather}"
   ]
  },
  {
   "cell_type": "markdown",
   "metadata": {},
   "source": [
    "## The cost function"
   ]
  },
  {
   "cell_type": "markdown",
   "metadata": {},
   "source": [
    "In order to find the optimal line to represent our data, we need to develop a cost function which favors model parameters that lead to a better fit. This cost function will approximate the error found in our model, which we can then use to optimize our parameters, $\\theta_0,\\theta_1,..., \\theta_n$\n",
    ", by minimizing the cost function. For linear regression, we'll use the mean squared error - the average difference between our guess, $h_\\theta(x^{(i)})$\n",
    ", and the true value, $y^{(i)}$ - to measure performance.\n",
    "\n",
    "$$J(\\theta) = \\dfrac{1}{m} \\sum\\limits_{i=1}^m (h_\\theta(x^{(i)}) - y^{(i)})^2$$"
   ]
  },
  {
   "cell_type": "markdown",
   "metadata": {},
   "source": [
    "## Gradient Descent"
   ]
  },
  {
   "cell_type": "markdown",
   "metadata": {},
   "source": [
    "$$\\theta_j = \\theta_j - \\eta \\frac{\\partial}{\\partial \\theta_j} J(\\theta)$$"
   ]
  },
  {
   "cell_type": "markdown",
   "metadata": {},
   "source": [
    "The partial derivatives can be computed as follows :"
   ]
  },
  {
   "cell_type": "markdown",
   "metadata": {},
   "source": [
    "\\begin{equation}\n",
    "\\begin{aligned}\n",
    "\\frac{\\partial}{\\partial \\theta_j} J(\\theta) & = \\frac{\\partial}{\\partial \\theta_j}(\\dfrac{1}{m} \\sum\\limits_{i=1}^m (h_\\theta(x^{(i)}) - y^{(i)})^2) \\quad [1]\\\\\n",
    "& = \\frac{1}{m} \\sum\\limits_{i=1}^m \\frac{\\partial}{\\partial \\theta_j}( h_\\theta(x^{(i)}) - y^{(i)})^2 \\quad [2]\\\\\n",
    "& = \\frac{1}{m} \\sum\\limits_{i=1}^m 2(h_\\theta(x^{(i)})-y^{(i)})\\frac{\\partial}{\\partial \\theta_j} h_\\theta(x^{(i)})-y^{(i)} ) \\quad [3]\\\\\n",
    "& = \\frac{2}{m} \\sum\\limits_{i=1}^m (h_\\theta(x^{(i)})-y^{(i)}) \\cdot x^j \\quad [4]\n",
    "\\end{aligned}\n",
    "\\end{equation}"
   ]
  },
  {
   "cell_type": "markdown",
   "metadata": {},
   "source": [
    "from line [1] to line [2], we need to apply :\n",
    "* **Scalar multiple rule** : $\\dfrac{\\partial}{\\partial x}(\\alpha u) = \\alpha \\dfrac{\\partial u}{\\partial x}$\n",
    "* **Sum rule** : $\\dfrac{\\partial}{\\partial x} \\sum u = \\sum \\dfrac{\\partial u}{\\partial x}$"
   ]
  },
  {
   "cell_type": "markdown",
   "metadata": {},
   "source": [
    "from line [2] to line [3], we need to apply :\n",
    "* **Power rule** : $\\dfrac{\\partial}{\\partial x} u^n = nu^{n-1}\\dfrac{\\partial u}{\\partial x}$\n",
    "* **Chain rule** : $\\dfrac{\\partial}{\\partial x} f(g(x)) = f'(g(x))g'(x)$"
   ]
  },
  {
   "cell_type": "markdown",
   "metadata": {},
   "source": [
    "Finally, from line [3] to line [4], we must evaluate the partial derivatives as follows : \n",
    "$\\dfrac{\\partial}{\\partial \\theta_j}(h_\\theta(x^{(i)})-y^{(i)}) = \\dfrac{\\partial}{\\partial \\theta_j}(\\theta_0 + \\theta_1 x + ... + \\theta_n x^n- y^{(i)}) = x^j$"
   ]
  },
  {
   "cell_type": "markdown",
   "metadata": {},
   "source": [
    "## Algorithm"
   ]
  },
  {
   "cell_type": "markdown",
   "metadata": {},
   "source": [
    "1. Initialize the weights with zeros\n",
    "2. Compute the linear combination of the input features and weights by doing : $h_\\theta ' = \\theta_0 + \\theta_1 x + ... + \\theta_n x^n$\n",
    "3. Compute the cost (mean squared error) over the training set\n",
    "4. Compute the partial derivatives of the cost function with respect to each parameter\n",
    "5. Update the weight vector and bias"
   ]
  },
  {
   "cell_type": "markdown",
   "metadata": {},
   "source": [
    "___"
   ]
  },
  {
   "cell_type": "markdown",
   "metadata": {},
   "source": [
    "# Implementation"
   ]
  },
  {
   "cell_type": "markdown",
   "metadata": {},
   "source": [
    "## Import the libraries"
   ]
  },
  {
   "cell_type": "code",
   "execution_count": 215,
   "metadata": {},
   "outputs": [],
   "source": [
    "import numpy as np\n",
    "import matplotlib.pyplot as plt\n",
    "%matplotlib inline\n",
    "from sklearn.model_selection import train_test_split"
   ]
  },
  {
   "cell_type": "markdown",
   "metadata": {},
   "source": [
    "## Create the dataset"
   ]
  },
  {
   "cell_type": "code",
   "execution_count": 297,
   "metadata": {},
   "outputs": [
    {
     "data": {
      "text/plain": [
       "<matplotlib.collections.PathCollection at 0x1a20f00358>"
      ]
     },
     "execution_count": 297,
     "metadata": {},
     "output_type": "execute_result"
    },
    {
     "data": {
      "image/png": "[encoded data removed]",
      "text/plain": [
       "<matplotlib.figure.Figure at 0x1a20cf6da0>"
      ]
     },
     "metadata": {},
     "output_type": "display_data"
    }
   ],
   "source": [
    "x1 = np.random.rand(50,1) \n",
    "y = 2*x1 + 9*x1**2 + 0.5*np.random.rand(50,1) + 3\n",
    "\n",
    "plt.scatter(x1,y)"
   ]
  },
  {
   "cell_type": "code",
   "execution_count": 298,
   "metadata": {},
   "outputs": [],
   "source": [
    "# We will approximate the function by a model of degree 2. If you want to change the degree, change the following x vector\n",
    "# Ex: to approximate with a degree 3 : x = np.column_stack((x1,x1**2,x1**3))\n",
    "x = np.column_stack((x1,x1**2))"
   ]
  },
  {
   "cell_type": "code",
   "execution_count": 299,
   "metadata": {},
   "outputs": [],
   "source": [
    "degree = x.shape[1]"
   ]
  },
  {
   "cell_type": "markdown",
   "metadata": {},
   "source": [
    "## Create the train and test sets"
   ]
  },
  {
   "cell_type": "code",
   "execution_count": 300,
   "metadata": {},
   "outputs": [],
   "source": [
    "X_train, X_test, y_train, y_test = train_test_split(x, y)"
   ]
  },
  {
   "cell_type": "code",
   "execution_count": 301,
   "metadata": {},
   "outputs": [
    {
     "name": "stdout",
     "output_type": "stream",
     "text": [
      "X_train shape : (37, 2)\n",
      "X_test shape : (13, 2)\n",
      "y _train shape : (37, 1)\n",
      "y_test shape : (13, 1)\n"
     ]
    }
   ],
   "source": [
    "print(\"X_train shape :\" ,X_train.shape)\n",
    "print(\"X_test shape :\" ,X_test.shape)\n",
    "print(\"y _train shape :\" ,y_train.shape)\n",
    "print(\"y_test shape :\" ,y_test.shape)"
   ]
  },
  {
   "cell_type": "markdown",
   "metadata": {},
   "source": [
    "## Create the Polynomial Regressor"
   ]
  },
  {
   "cell_type": "code",
   "execution_count": 303,
   "metadata": {},
   "outputs": [],
   "source": [
    "class PolyRegression : \n",
    "    def __init__(self, degree) :\n",
    "        self.degree = degree\n",
    "        pass\n",
    "    \n",
    "    def train_gradient_descent(self, X, y, learning_rate=0.01, n_iter=100):\n",
    "        \"\"\"\n",
    "        Trains a polynomial regression model using gradient descent\n",
    "        \"\"\"\n",
    "        # Step 1 : initialize the weights\n",
    "        X = np.column_stack((np.ones(np.shape(X)[0]),X))\n",
    "        n_samples, n_features = X.shape\n",
    "        self.weights = np.zeros(shape=(degree+1,1))\n",
    "        costs = []\n",
    "        \n",
    "        for i in range(n_iter):\n",
    "            # Step 2: Compute a linear combination of the input features and weights\n",
    "            y_predict = np.dot(X,self.weights)\n",
    "            \n",
    "            # Step 3: Compute cost over training set\n",
    "            cost = 1 / n_samples * np.sum((y - y_predict)**2)\n",
    "            costs.append(cost)\n",
    "            \n",
    "            # Step 4: Compute the gradients\n",
    "            dJ_dw = (2 / n_samples) * np.dot(X.T, (y_predict - y))\n",
    "            \n",
    "            # Step 5: Update the parameters\n",
    "            self.weights = self.weights - learning_rate * dJ_dw\n",
    "            \n",
    "        return self.weights, costs\n",
    "        \n",
    "    def predict(self, X):\n",
    "        \"\"\"\n",
    "        Predicts a linear model from the learned weights\n",
    "        \"\"\"\n",
    "        X = np.column_stack((np.ones(np.shape(X)[0]),X))\n",
    "        return np.dot(X, self.weights)\n",
    "    \n",
    "    def plot_function(self, X,Y):\n",
    "        \"\"\"\n",
    "        Plot the data and the predicted function\n",
    "        \"\"\"\n",
    "        plt.figure(figsize=(8,6))\n",
    "        x = np.linspace(0,1,200)\n",
    "        # Adapt x if the degre has changed\n",
    "        x = np.column_stack((x,x**2))\n",
    "        y = self.predict(x)\n",
    "        plt.plot(x[:,0],y, c='r')\n",
    "        plt.scatter(X,Y)\n",
    "        plt.xlabel(\"First feature\")\n",
    "        plt.ylabel(\"Second feature\")\n",
    "        plt.show()"
   ]
  },
  {
   "cell_type": "markdown",
   "metadata": {
    "collapsed": true
   },
   "source": [
    "## Train the regressor"
   ]
  },
  {
   "cell_type": "code",
   "execution_count": 304,
   "metadata": {},
   "outputs": [],
   "source": [
    "regressor = PolyRegression(degree = degree)\n",
    "w_trained, costs = regressor.train_gradient_descent(X_train, y_train, learning_rate=0.25, n_iter=1000)"
   ]
  },
  {
   "cell_type": "code",
   "execution_count": 305,
   "metadata": {},
   "outputs": [
    {
     "data": {
      "image/png": "[encoded data removed]",
      "text/plain": [
       "<matplotlib.figure.Figure at 0x1a20cf6cc0>"
      ]
     },
     "metadata": {},
     "output_type": "display_data"
    }
   ],
   "source": [
    "fig = plt.figure(figsize=(8,6))\n",
    "plt.plot(np.arange(1000), costs)\n",
    "plt.title(\"Development of cost during training\")\n",
    "plt.xlabel(\"Number of iterations\")\n",
    "plt.ylabel(\"Cost\")\n",
    "plt.show()"
   ]
  },
  {
   "cell_type": "markdown",
   "metadata": {},
   "source": [
    "## Look at the results"
   ]
  },
  {
   "cell_type": "code",
   "execution_count": 306,
   "metadata": {},
   "outputs": [],
   "source": [
    "n_samples = X_train.shape[0]\n",
    "n_samples_test = X_test.shape[0]\n",
    "\n",
    "y_p_train = regressor.predict(X_train)\n",
    "y_p_test = regressor.predict(X_test)"
   ]
  },
  {
   "cell_type": "code",
   "execution_count": 307,
   "metadata": {},
   "outputs": [
    {
     "name": "stdout",
     "output_type": "stream",
     "text": [
      "Error on training set: 0.0244\n",
      "Error on test set: 0.0528\n"
     ]
    }
   ],
   "source": [
    "error_train =  (1 / n_samples) * np.sum((y_p_train - y_train) ** 2)\n",
    "error_test =  (1 / n_samples_test) * np.sum((y_p_test - y_test) ** 2)\n",
    "\n",
    "print(\"Error on training set:\", np.round(error_train, 4))\n",
    "print(\"Error on test set:\",np.round(error_test,4))"
   ]
  },
  {
   "cell_type": "code",
   "execution_count": 308,
   "metadata": {},
   "outputs": [
    {
     "data": {
      "image/png": "[encoded data removed]",
      "text/plain": [
       "<matplotlib.figure.Figure at 0x1a20f0f320>"
      ]
     },
     "metadata": {},
     "output_type": "display_data"
    }
   ],
   "source": [
    "regressor.plot_function(X_test[:,0], y_test)"
   ]
  },
  {
   "cell_type": "markdown",
   "metadata": {},
   "source": [
    "We were supposed to find the coefficient of our initial distribution :\n",
    "* A coefficient of 2 for $x$\n",
    "* A coefficient of 8 for $x^2$\n",
    "* an intercept of 3"
   ]
  },
  {
   "cell_type": "code",
   "execution_count": 309,
   "metadata": {},
   "outputs": [
    {
     "name": "stdout",
     "output_type": "stream",
     "text": [
      "Coefficient of x : [ 3.94495153]\n",
      "Coefficient of x^2 : [ 7.12643366]\n",
      "Intercept : [ 2.88249181]\n"
     ]
    }
   ],
   "source": [
    "print(\"Coefficient of x :\", w_trained[1])\n",
    "print(\"Coefficient of x^2 :\", w_trained[2])\n",
    "print(\"Intercept :\", w_trained[0])"
   ]
  },
  {
   "cell_type": "markdown",
   "metadata": {},
   "source": [
    "The values are not exactly the same, it is understandable because we've added some noise on the training data and because we do our regression on a small training set. However, by comparing the original function and the predicted one, we can see that they are pretty close"
   ]
  },
  {
   "cell_type": "code",
   "execution_count": 310,
   "metadata": {},
   "outputs": [
    {
     "data": {
      "text/plain": [
       "[<matplotlib.lines.Line2D at 0x1a20d19b38>]"
      ]
     },
     "execution_count": 310,
     "metadata": {},
     "output_type": "execute_result"
    },
    {
     "data": {
      "image/png": "[encoded data removed]",
      "text/plain": [
       "<matplotlib.figure.Figure at 0x1a20f0f668>"
      ]
     },
     "metadata": {},
     "output_type": "display_data"
    }
   ],
   "source": [
    "x1 = np.linspace(0,1,50)\n",
    "y =  2*x1 + 9*x1**2 + 3\n",
    "y2 = w_trained[1]*x1 + w_trained[2]*x1**2 + w_trained[0]\n",
    "\n",
    "plt.plot(x1,y)\n",
    "plt.plot(x1,y2)"
   ]
  }
 ],
 "metadata": {
  "kernelspec": {
   "display_name": "Python 3",
   "language": "python",
   "name": "python3"
  },
  "language_info": {
   "codemirror_mode": {
    "name": "ipython",
    "version": 3
   },
   "file_extension": ".py",
   "mimetype": "text/x-python",
   "name": "python",
   "nbconvert_exporter": "python",
   "pygments_lexer": "ipython3",
   "version": "3.5.4"
  }
 },
 "nbformat": 4,
 "nbformat_minor": 2
}
