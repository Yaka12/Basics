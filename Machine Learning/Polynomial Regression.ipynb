{
 "cells": [
  {
   "cell_type": "markdown",
   "metadata": {},
   "source": [
    "## Import the libraries"
   ]
  },
  {
   "cell_type": "code",
   "execution_count": 2,
   "metadata": {
    "collapsed": true
   },
   "outputs": [],
   "source": [
    "import numpy as np\n",
    "import matplotlib.pyplot as plt\n",
    "%matplotlib inline\n",
    "from sklearn.model_selection import train_test_split"
   ]
  },
  {
   "cell_type": "markdown",
   "metadata": {},
   "source": [
    "## Create the dataset"
   ]
  },
  {
   "cell_type": "code",
   "execution_count": 502,
   "metadata": {},
   "outputs": [
    {
     "data": {
      "text/plain": [
       "<matplotlib.collections.PathCollection at 0x1a1d047e48>"
      ]
     },
     "execution_count": 502,
     "metadata": {},
     "output_type": "execute_result"
    },
    {
     "data": {
      "image/png": "[encoded data removed]",
      "text/plain": [
       "<matplotlib.figure.Figure at 0x1a1dbd9940>"
      ]
     },
     "metadata": {},
     "output_type": "display_data"
    }
   ],
   "source": [
    "x = np.random.rand(50,1) \n",
    "y = (5*x)**3 + 10*np.random.rand(50,1)\n",
    "\n",
    "plt.scatter(x,y)"
   ]
  },
  {
   "cell_type": "markdown",
   "metadata": {},
   "source": [
    "## Create the train and test sets"
   ]
  },
  {
   "cell_type": "code",
   "execution_count": 503,
   "metadata": {
    "collapsed": true
   },
   "outputs": [],
   "source": [
    "X_train, X_test, y_train, y_test = train_test_split(x, y)"
   ]
  },
  {
   "cell_type": "code",
   "execution_count": 504,
   "metadata": {},
   "outputs": [
    {
     "name": "stdout",
     "output_type": "stream",
     "text": [
      "X_train shape : (37, 1)\n",
      "X_test shape : (13, 1)\n",
      "y _train shape : (37, 1)\n",
      "y_test shape : (13, 1)\n"
     ]
    }
   ],
   "source": [
    "print(\"X_train shape :\" ,X_train.shape)\n",
    "print(\"X_test shape :\" ,X_test.shape)\n",
    "print(\"y _train shape :\" ,y_train.shape)\n",
    "print(\"y_test shape :\" ,y_test.shape)"
   ]
  },
  {
   "cell_type": "markdown",
   "metadata": {},
   "source": [
    "## Create the Polynomial Regressor"
   ]
  },
  {
   "cell_type": "code",
   "execution_count": 523,
   "metadata": {},
   "outputs": [],
   "source": [
    "class PolyRegression : \n",
    "    def __init__(self, degree=3) :\n",
    "        self.degree = degree\n",
    "    \n",
    "    def train_gradient_descent(self, X, y, learning_rate=0.01, n_iter=100):\n",
    "        n_samples, n_features = X.shape\n",
    "        self.weights = np.zeros(shape=(1,self.degree))\n",
    "        self.bias = 0\n",
    "        costs = []\n",
    "        \n",
    "        for i in range(n_iter):\n",
    "            for j in range(self.degree):\n",
    "                y_predict = np.dot(X**(j+1),self.weights[:,j]) + self.bias\n",
    "                y_predict = np.expand_dims(y_predict, axis=1)\n",
    "            \n",
    "                dJ_dw = (2 / n_samples) * np.dot(X.T, (y_predict - y))\n",
    "                dJ_db = (2 / n_samples) * np.sum(y_predict - y)\n",
    "            \n",
    "                self.weights[:,j] = self.weights[:,j] - learning_rate * dJ_dw\n",
    "                self.bias = self.bias - learning_rate * dJ_db\n",
    "            \n",
    "            cost = 1 / n_samples * np.sum((y - y_predict)**2)\n",
    "            costs.append(cost)\n",
    "            \n",
    "        return self.weights, self.bias, costs\n",
    "        \n",
    "    def predict(self, X):\n",
    "        for j in range(self.degree):\n",
    "                y_predict = np.dot(X**(j+1),self.weights[:,j]) + self.bias\n",
    "                y_predict = np.expand_dims(y_predict, axis=1)\n",
    "        return y_predict\n",
    "    \n",
    "    def plot_function(self, X,Y):\n",
    "        plt.figure(figsize=(8,6))\n",
    "        x = np.linspace(0,1,200)\n",
    "        x = np.expand_dims(x, axis=1)\n",
    "        y = self.predict(x)\n",
    "        plt.plot(x,y, c='r')\n",
    "        plt.scatter(X,Y)\n",
    "        plt.xlabel(\"First feature\")\n",
    "        plt.ylabel(\"Second feature\")\n",
    "        plt.show()\n",
    "                   "
   ]
  },
  {
   "cell_type": "markdown",
   "metadata": {
    "collapsed": true
   },
   "source": [
    "## Train the regressor"
   ]
  },
  {
   "cell_type": "code",
   "execution_count": 539,
   "metadata": {},
   "outputs": [],
   "source": [
    "regressor = PolyRegression()\n",
    "w_trained, b_trained, costs = regressor.train_gradient_descent(X_train, y_train, learning_rate=0.05, n_iter=1000)"
   ]
  },
  {
   "cell_type": "code",
   "execution_count": 540,
   "metadata": {},
   "outputs": [
    {
     "data": {
      "image/png": "[encoded data removed]",
      "text/plain": [
       "<matplotlib.figure.Figure at 0x1a1d1f56a0>"
      ]
     },
     "metadata": {},
     "output_type": "display_data"
    }
   ],
   "source": [
    "fig = plt.figure(figsize=(8,6))\n",
    "plt.plot(np.arange(1000), costs)\n",
    "plt.title(\"Development of cost during training\")\n",
    "plt.xlabel(\"Number of iterations\")\n",
    "plt.ylabel(\"Cost\")\n",
    "plt.show()"
   ]
  },
  {
   "cell_type": "markdown",
   "metadata": {},
   "source": [
    "## Look at the results"
   ]
  },
  {
   "cell_type": "code",
   "execution_count": 541,
   "metadata": {},
   "outputs": [],
   "source": [
    "n_samples = X_train.shape[0]\n",
    "n_samples_test = X_test.shape[0]\n",
    "\n",
    "y_p_train = regressor.predict(X_train)\n",
    "y_p_test = regressor.predict(X_test)"
   ]
  },
  {
   "cell_type": "code",
   "execution_count": 542,
   "metadata": {},
   "outputs": [
    {
     "name": "stdout",
     "output_type": "stream",
     "text": [
      "Error on training set: 33.2783\n",
      "Error on test set: 39.0535\n"
     ]
    }
   ],
   "source": [
    "error_train =  (1 / n_samples) * np.sum((y_p_train - y_train) ** 2)\n",
    "error_test =  (1 / n_samples_test) * np.sum((y_p_test - y_test) ** 2)\n",
    "\n",
    "print(f\"Error on training set: {np.round(error_train, 4)}\")\n",
    "print(f\"Error on test set: {np.round(error_test,4)}\")"
   ]
  },
  {
   "cell_type": "code",
   "execution_count": 543,
   "metadata": {},
   "outputs": [
    {
     "data": {
      "image/png": "[encoded data removed]",
      "text/plain": [
       "<matplotlib.figure.Figure at 0x1a1e0bd6a0>"
      ]
     },
     "metadata": {},
     "output_type": "display_data"
    }
   ],
   "source": [
    "regressor.plot_function(X_test, y_test)"
   ]
  }
 ],
 "metadata": {
  "kernelspec": {
   "display_name": "Python 3",
   "language": "python",
   "name": "python3"
  },
  "language_info": {
   "codemirror_mode": {
    "name": "ipython",
    "version": 3
   },
   "file_extension": ".py",
   "mimetype": "text/x-python",
   "name": "python",
   "nbconvert_exporter": "python",
   "pygments_lexer": "ipython3",
   "version": "3.6.3"
  }
 },
 "nbformat": 4,
 "nbformat_minor": 2
}
