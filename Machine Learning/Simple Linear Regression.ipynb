{
 "cells": [
  {
   "cell_type": "markdown",
   "metadata": {},
   "source": [
    "# Simple Linear Regression"
   ]
  },
  {
   "cell_type": "markdown",
   "metadata": {},
   "source": [
    "Simple linear regression is a statistical method that allows us to summarize and study relationships between two continuous (quantitative) variables:\n",
    "\n",
    "* One variable, denoted *x*, is regarded as the independent variable.\n",
    "* The other variable, denoted *y*, is regarded as the dependent variable."
   ]
  },
  {
   "cell_type": "markdown",
   "metadata": {},
   "source": [
    "Linear regression is used to predict an outcome given some input value(s). While machine learning classifiers use features to predict a **discrete** label for a given instance or example, machine learning regressors have the ability use features to predict a **continuous** outcome for a given instance or example. \n",
    "\n",
    "Nonetheless, regression is still a supervised learning technique and you'll still need to train your model on a set of examples with known outcomes.\n",
    "\n",
    "The basic premise behind linear regression is to provide a model which can observe linear trends in the data; you've probably encountered linear regression at some point in the past as finding the \"line of best fit\"."
   ]
  },
  {
   "cell_type": "markdown",
   "metadata": {},
   "source": [
    "## The model"
   ]
  },
  {
   "cell_type": "markdown",
   "metadata": {},
   "source": [
    "Our machine learning model is represented by the equation of a line.\n",
    "$h_\\theta(x)=\\theta_0+\\theta_1.x$ \n",
    "\n",
    "In this case, we define our model as $h_\\theta(x)$ where *h* represents our predicted outcome as a function of our features, *x*. Typically, the model of a line is represented by $y=mx+b$. We use *h* instead of *y* to denote that this model is a hypothesis of the true trend. In a sense, we're attempting to provide our \"best guess\" for finding a relationship in the data provided. $\\theta_0$ and $\\theta_1$ are coefficients of our linear equation (analogous to *b* and *m* in the standard line equation) and will be considered parameters of the model."
   ]
  },
  {
   "cell_type": "markdown",
   "metadata": {},
   "source": [
    "\\begin{gather}h_\\theta(x)=\\begin{bmatrix}\\theta_0 & \\theta_1\\end{bmatrix}\\begin{bmatrix}1 \\\\ x\\end{bmatrix}=\\theta_0+\\theta_1 x \\end{gather}"
   ]
  },
  {
   "cell_type": "markdown",
   "metadata": {},
   "source": [
    "## The cost function"
   ]
  },
  {
   "cell_type": "markdown",
   "metadata": {},
   "source": [
    "In order to find the optimal line to represent our data, we need to develop a cost function which favors model parameters that lead to a better fit. This cost function will approximate the error found in our model, which we can then use to optimize our parameters, θ0\n",
    " and θ1\n",
    ", by minimizing the cost function. For linear regression, we'll use the mean squared error - the average difference between our guess, hθ(xi)\n",
    ", and the true value, yi - to measure performance.\n",
    "\n",
    "$$MSE = J(\\theta) = \\dfrac{1}{m} \\sum\\limits_{i=1}^m (h_\\theta(x^{(i)}) - y^{(i)})^2$$"
   ]
  },
  {
   "cell_type": "markdown",
   "metadata": {},
   "source": [
    "## Gradient Descent"
   ]
  },
  {
   "cell_type": "markdown",
   "metadata": {},
   "source": [
    "$$\\theta_j = \\theta_j - \\eta \\frac{\\partial}{\\partial \\theta_j} J(\\theta)$$\n",
    "with $\\eta$ the learning rate"
   ]
  },
  {
   "cell_type": "markdown",
   "metadata": {},
   "source": [
    "The partial derivatives can be computed as follows :"
   ]
  },
  {
   "cell_type": "markdown",
   "metadata": {},
   "source": [
    "\\begin{equation}\n",
    "\\begin{aligned}\n",
    "\\frac{\\partial}{\\partial \\theta_0} J(\\theta) & = \\frac{\\partial}{\\partial \\theta_0}(\\dfrac{1}{m} \\sum\\limits_{i=1}^m (h_\\theta(x^{(i)}) - y^{(i)})^2) \\quad [1]\\\\\n",
    "& = \\frac{1}{m} \\sum\\limits_{i=1}^m \\frac{\\partial}{\\partial \\theta_0}( h_\\theta(x^{(i)}) - y^{(i)})^2 \\quad [2]\\\\\n",
    "& = \\frac{1}{m} \\sum\\limits_{i=1}^m 2(h_\\theta(x^{(i)})-y^{(i)})\\frac{\\partial}{\\partial \\theta_0} h_\\theta(x^{(i)})-y^{(i)} ) \\quad [3]\\\\\n",
    "& = \\frac{2}{m} \\sum\\limits_{i=1}^m (h_\\theta(x^{(i)})-y^{(i)}) \\quad [4]\n",
    "\\end{aligned}\n",
    "\\end{equation}"
   ]
  },
  {
   "cell_type": "markdown",
   "metadata": {},
   "source": [
    "from line [1] to line [2], we need to apply :\n",
    "* **Scalar multiple rule** : $\\dfrac{\\partial}{\\partial x}(\\alpha u) = \\alpha \\dfrac{\\partial u}{\\partial x}$\n",
    "* **Sum rule** : $\\dfrac{\\partial}{\\partial x} \\sum u = \\sum \\dfrac{\\partial u}{\\partial x}$"
   ]
  },
  {
   "cell_type": "markdown",
   "metadata": {},
   "source": [
    "from line [2] to line [3], we need to apply :\n",
    "* **Power rule** : $\\dfrac{\\partial}{\\partial x} u^n = nu^{n-1}\\dfrac{\\partial u}{\\partial x}$\n",
    "* **Chain rule** : $\\dfrac{\\partial}{\\partial x} f(g(x)) = f'(g(x))g'(x)$"
   ]
  },
  {
   "cell_type": "markdown",
   "metadata": {},
   "source": [
    "Finally, from line [3] to line [4], we must evaluate the partial derivatives as follows : \n",
    "$$\\dfrac{\\partial}{\\partial \\theta_0}(h_\\theta(x^{(i)})-y^{(i)}) = \\dfrac{\\partial}{\\partial \\theta_0}(\\theta_0 + \\theta_1 x^{(i)}- y^{(i)}) = 1$$"
   ]
  },
  {
   "cell_type": "markdown",
   "metadata": {},
   "source": [
    "We hav evaluated the partial derivative of the MSE cost function with respect to the variable $\\theta_0$. For the variable $\\theta_1$, only the final step is different : $$\\dfrac{\\partial}{\\partial \\theta_1}(h_\\theta(x^{(i)})-y^{(i)}) = \\dfrac{\\partial}{\\partial \\theta_1}(\\theta_0 + \\theta_1 x_1- y^{(i)}) = x^{(i)}$$"
   ]
  },
  {
   "cell_type": "markdown",
   "metadata": {},
   "source": [
    "Finally we have :$$\\quad \\frac{\\partial J}{\\partial \\theta_1} = \\frac{2}{m}\\sum_{i=1}^m ( h_\\theta(x^{(i)}) - y^{(i)} ) x^{(i)} \\quad\\text{and}\\quad \\frac{\\partial J}{\\partial \\theta_0} = \\frac{2}{m}\\sum_{i=1}^m ( h_\\theta(x^{(i)}) - y^{(i)})$$\n"
   ]
  },
  {
   "cell_type": "markdown",
   "metadata": {},
   "source": [
    "## Algorithm"
   ]
  },
  {
   "cell_type": "markdown",
   "metadata": {},
   "source": [
    "1. Initialize the weights with zeros\n",
    "2. Compute the linear combination of the input features and weights by doing : $h_\\theta ' = \\theta_0 + \\theta_1 x$\n",
    "3. Compute the cost (mean squared error) over the training set\n",
    "4. Compute the partial derivatives of the cost function with respect to each parameter\n",
    "5. Update the weight vector and bias"
   ]
  },
  {
   "cell_type": "markdown",
   "metadata": {},
   "source": [
    "___"
   ]
  },
  {
   "cell_type": "markdown",
   "metadata": {},
   "source": [
    "# Implementation"
   ]
  },
  {
   "cell_type": "markdown",
   "metadata": {},
   "source": [
    "## Import the libraries"
   ]
  },
  {
   "cell_type": "code",
   "execution_count": 1,
   "metadata": {
    "collapsed": true
   },
   "outputs": [],
   "source": [
    "import numpy as np\n",
    "import matplotlib.pyplot as plt\n",
    "%matplotlib inline\n",
    "from sklearn.model_selection import train_test_split"
   ]
  },
  {
   "cell_type": "markdown",
   "metadata": {},
   "source": [
    "## Create the dataset"
   ]
  },
  {
   "cell_type": "code",
   "execution_count": 2,
   "metadata": {},
   "outputs": [
    {
     "data": {
      "text/plain": [
       "<matplotlib.collections.PathCollection at 0x118963400>"
      ]
     },
     "execution_count": 2,
     "metadata": {},
     "output_type": "execute_result"
    },
    {
     "data": {
      "image/png": "[encoded data removed]",
      "text/plain": [
       "<matplotlib.figure.Figure at 0x112b47160>"
      ]
     },
     "metadata": {},
     "output_type": "display_data"
    }
   ],
   "source": [
    "x = np.random.rand(50,1) \n",
    "y = 10*x + np.random.rand(50,1) +2\n",
    "\n",
    "plt.scatter(x,y)"
   ]
  },
  {
   "cell_type": "markdown",
   "metadata": {},
   "source": [
    "## Create the train and test sets"
   ]
  },
  {
   "cell_type": "code",
   "execution_count": 3,
   "metadata": {
    "collapsed": true
   },
   "outputs": [],
   "source": [
    "X_train, X_test, y_train, y_test = train_test_split(x, y)"
   ]
  },
  {
   "cell_type": "code",
   "execution_count": 4,
   "metadata": {},
   "outputs": [
    {
     "name": "stdout",
     "output_type": "stream",
     "text": [
      "X_train shape : (37, 1)\n",
      "X_test shape : (13, 1)\n",
      "y _train shape : (37, 1)\n",
      "y_test shape : (13, 1)\n"
     ]
    }
   ],
   "source": [
    "print(\"X_train shape :\" ,X_train.shape)\n",
    "print(\"X_test shape :\" ,X_test.shape)\n",
    "print(\"y _train shape :\" ,y_train.shape)\n",
    "print(\"y_test shape :\" ,y_test.shape)"
   ]
  },
  {
   "cell_type": "markdown",
   "metadata": {},
   "source": [
    "## Create the Linear Regressor"
   ]
  },
  {
   "cell_type": "code",
   "execution_count": 5,
   "metadata": {
    "collapsed": true
   },
   "outputs": [],
   "source": [
    "class LinearRegression : \n",
    "    def __init__(self) :\n",
    "        pass\n",
    "    \n",
    "    def train_gradient_descent(self, X, y, learning_rate=0.01, n_iter=100):\n",
    "        \"\"\"\n",
    "        Trains a simple linear regression model using gradient descent\n",
    "        \"\"\"\n",
    "        # Step 1 : initialize the weights\n",
    "        X = np.column_stack((np.ones(np.shape(X)[0]),X))\n",
    "        n_samples, n_features = X.shape\n",
    "        self.weights = np.zeros(shape=(n_features,1))\n",
    "        costs = []\n",
    "        \n",
    "        for i in range(n_iter):\n",
    "            # Step 2: Compute a linear combination of the input features and weights\n",
    "            y_predict = np.dot(X,self.weights)\n",
    "            \n",
    "            # Step 3: Compute cost over training set\n",
    "            cost = 1 / n_samples * np.sum((y - y_predict)**2)\n",
    "            costs.append(cost)\n",
    "            \n",
    "            # Step 4: Compute the gradients\n",
    "            dJ_dw = (2 / n_samples) * np.dot(X.T, (y_predict - y))\n",
    "            \n",
    "            # Step 5: Update the parameters\n",
    "            self.weights = self.weights - learning_rate * dJ_dw\n",
    "            \n",
    "        return self.weights, costs\n",
    "        \n",
    "    def predict(self, X):\n",
    "        \"\"\"\n",
    "        Predicts a linear model from the learned weights\n",
    "        \"\"\"\n",
    "        X = np.column_stack((np.ones(np.shape(X)[0]),X))\n",
    "        return np.dot(X, self.weights)\n",
    "    \n",
    "    def plot_function(self, X,Y):\n",
    "        \"\"\"\n",
    "        Plot the data and the predicted function\n",
    "        \"\"\"\n",
    "        plt.figure(figsize=(8,6))\n",
    "        x = np.linspace(0,1,200)\n",
    "        x = np.expand_dims(x, axis=1)\n",
    "        y = self.predict(x)\n",
    "        plt.plot(x,y, c='r')\n",
    "        plt.scatter(X,Y)\n",
    "        plt.xlabel(\"First feature\")\n",
    "        plt.ylabel(\"Second feature\")\n",
    "        plt.show()"
   ]
  },
  {
   "cell_type": "markdown",
   "metadata": {
    "collapsed": true
   },
   "source": [
    "## Train the regressor"
   ]
  },
  {
   "cell_type": "code",
   "execution_count": 6,
   "metadata": {
    "collapsed": true
   },
   "outputs": [],
   "source": [
    "regressor = LinearRegression()\n",
    "w_trained, costs = regressor.train_gradient_descent(X_train, y_train, learning_rate=0.1, n_iter=500)"
   ]
  },
  {
   "cell_type": "code",
   "execution_count": 7,
   "metadata": {},
   "outputs": [
    {
     "data": {
      "image/png": "[encoded data removed]",
      "text/plain": [
       "<matplotlib.figure.Figure at 0x11898bc18>"
      ]
     },
     "metadata": {},
     "output_type": "display_data"
    }
   ],
   "source": [
    "fig = plt.figure(figsize=(8,6))\n",
    "plt.plot(np.arange(500), costs)\n",
    "plt.title(\"Development of cost during training\")\n",
    "plt.xlabel(\"Number of iterations\")\n",
    "plt.ylabel(\"Cost\")\n",
    "plt.show()"
   ]
  },
  {
   "cell_type": "markdown",
   "metadata": {},
   "source": [
    "## Look at the results"
   ]
  },
  {
   "cell_type": "code",
   "execution_count": 8,
   "metadata": {
    "collapsed": true
   },
   "outputs": [],
   "source": [
    "n_samples = X_train.shape[0]\n",
    "n_samples_test = X_test.shape[0]\n",
    "\n",
    "y_p_train = regressor.predict(X_train)\n",
    "y_p_test = regressor.predict(X_test)"
   ]
  },
  {
   "cell_type": "code",
   "execution_count": 9,
   "metadata": {},
   "outputs": [
    {
     "name": "stdout",
     "output_type": "stream",
     "text": [
      "Error on training set: 0.0928\n",
      "Error on test set: 0.1044\n"
     ]
    }
   ],
   "source": [
    "error_train =  (1 / n_samples) * np.sum((y_p_train - y_train) ** 2)\n",
    "error_test =  (1 / n_samples_test) * np.sum((y_p_test - y_test) ** 2)\n",
    "\n",
    "print(\"Error on training set:\", np.round(error_train, 4))\n",
    "print(\"Error on test set:\", np.round(error_test,4))"
   ]
  },
  {
   "cell_type": "code",
   "execution_count": 10,
   "metadata": {},
   "outputs": [
    {
     "data": {
      "image/png": "[encoded data removed]",
      "text/plain": [
       "<matplotlib.figure.Figure at 0x1189406d8>"
      ]
     },
     "metadata": {},
     "output_type": "display_data"
    }
   ],
   "source": [
    "regressor.plot_function(X_test, y_test)"
   ]
  },
  {
   "cell_type": "markdown",
   "metadata": {},
   "source": [
    "We were supposed to retrieve the coefficient of our line :\n",
    "* A slope of 10\n",
    "* An intercept of 2"
   ]
  },
  {
   "cell_type": "code",
   "execution_count": 11,
   "metadata": {},
   "outputs": [
    {
     "name": "stdout",
     "output_type": "stream",
     "text": [
      "Slope : [ 10.15561067]\n",
      "Intercept : [ 2.37168651]\n"
     ]
    }
   ],
   "source": [
    "print(\"Slope :\", w_trained[1])\n",
    "print(\"Intercept :\", w_trained[0])"
   ]
  }
 ],
 "metadata": {
  "kernelspec": {
   "display_name": "Python 3",
   "language": "python",
   "name": "python3"
  },
  "language_info": {
   "codemirror_mode": {
    "name": "ipython",
    "version": 3
   },
   "file_extension": ".py",
   "mimetype": "text/x-python",
   "name": "python",
   "nbconvert_exporter": "python",
   "pygments_lexer": "ipython3",
   "version": "3.5.4"
  }
 },
 "nbformat": 4,
 "nbformat_minor": 2
}
